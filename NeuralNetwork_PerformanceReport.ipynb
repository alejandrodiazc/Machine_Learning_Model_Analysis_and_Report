{
 "cells": [
  {
   "cell_type": "markdown",
   "metadata": {},
   "source": [
    "# Machine Learning Model Analysis and Report\n",
    "\n",
    "The following report aims to explain and analyze the performance of a machine learning model implementation; for this particular case, a Neural Network model was developed through the SciKit Learn libraries. The NN is intended for solving multilabel classification tasks.\n",
    "\n",
    "For the whole training and testing process of the Neural Network, a Palmer Archipielago Penguin database was used; this database contains information that allows to solve a classification problem, which consists in determining the species of a penguin based on certain features.\n",
    "\n",
    "First, for getting the optimal model, a Gridsearch was perfrormed, aiming to get the best parameters for the neural network construction. Once the model was determined, validations were done in order to approve the model for predictions.\n",
    "\n",
    "Once training and testing was done, several metrics were obtained in order to check if the model worked correctly when making predictions for each of the three possible outputs.\n",
    "\n",
    "Later on, details will be given on the implementation and each particula task that was performed."
   ]
  },
  {
   "cell_type": "markdown",
   "metadata": {},
   "source": [
    "### Database Preparation"
   ]
  },
  {
   "cell_type": "code",
   "execution_count": 1,
   "metadata": {},
   "outputs": [],
   "source": [
    "import pandas as pd\n",
    "import numpy as np\n",
    "import matplotlib.pyplot as plt\n",
    "import seaborn as sns\n",
    "from sklearn.neural_network import MLPClassifier\n",
    "from sklearn.model_selection import train_test_split\n",
    "from sklearn.model_selection import GridSearchCV\n",
    "from sklearn.model_selection import learning_curve\n",
    "from sklearn.metrics import multilabel_confusion_matrix\n",
    "from sklearn.metrics import confusion_matrix\n",
    "\n",
    "import warnings\n",
    "warnings.filterwarnings(\"ignore\")"
   ]
  },
  {
   "cell_type": "markdown",
   "metadata": {},
   "source": [
    "In order to perform a successful classification task, the database must be transformed so that all variables are numeric and can be interpreted by the neural network. This encoding is also executed on the target variable, which ends up having 3 possible values."
   ]
  },
  {
   "cell_type": "code",
   "execution_count": 2,
   "metadata": {},
   "outputs": [],
   "source": [
    "df=pd.read_csv(\"penguins_size.csv\")\n",
    "df=df.dropna()\n",
    "df=df[df['sex'] != \".\"]\n",
    "\n",
    "X=df.drop(\"species\",axis=1)\n",
    "y=pd.DataFrame(df[\"species\"])\n",
    "\n",
    "from sklearn import preprocessing\n",
    "le = preprocessing.LabelEncoder()\n",
    "\n",
    "le.fit(X.island.unique().tolist())\n",
    "X['island']=le.transform(X['island'])\n",
    "\n",
    "le.fit(X.sex.unique().tolist())\n",
    "X['sex']=le.transform(X['sex'])\n",
    "\n",
    "le.fit(y.species.unique().tolist())\n",
    "y=le.transform(y)\n",
    "y=pd.DataFrame(y,columns=['species'])"
   ]
  },
  {
   "cell_type": "markdown",
   "metadata": {},
   "source": [
    "Later on, for studying if the model tends to either overfit or underfit, the database must be separated into three different subsets, training, validation and testing. The  first one will be used for generating the neural network model, so that the model gets its main parameters. Afterwards, the validation model is used for studying if the model is actually performing well with data that was not part of training, and it can be used for comparing models and if they generalize appropriately. Finally, the testing subset is used as a brand-new sample, and allows to verify if the model can perform with new information and data.\n",
    "\n",
    "The size of the three tests was chosen accordingly to the theory studied in class, where it was specified that in most cases, using 60% of the database for training, 20% for validation and the rest for trainig, works appropriately."
   ]
  },
  {
   "cell_type": "code",
   "execution_count": 3,
   "metadata": {},
   "outputs": [
    {
     "name": "stdout",
     "output_type": "stream",
     "text": [
      "(199, 6)\n",
      "(199, 1)\n",
      "(67, 6)\n",
      "(67, 1)\n",
      "(67, 6)\n",
      "(67, 1)\n"
     ]
    }
   ],
   "source": [
    "X_train,X_test,y_train,y_test=train_test_split(X,y,train_size=0.8,random_state=1)\n",
    "\n",
    "train_ratio = 0.6\n",
    "validation_ratio = 0.2\n",
    "test_ratio = 0.2\n",
    "\n",
    "X_train, X_test, y_train, y_test = train_test_split(X,y,test_size=1-train_ratio)\n",
    "X_val, X_test, y_val, y_test = train_test_split(X_test,y_test,test_size=test_ratio/(test_ratio+validation_ratio)) \n",
    "\n",
    "print(X_train.shape)\n",
    "print(y_train.shape)\n",
    "print(X_val.shape)\n",
    "print(y_val.shape)\n",
    "print(X_test.shape)\n",
    "print(y_test.shape)"
   ]
  },
  {
   "cell_type": "markdown",
   "metadata": {},
   "source": [
    "A gridsearch takes place, in order to determine which parameters work the best for the neural network model. The main objective of this search is to optimize the accuracy of predictions with the model. For the model generation, just the training subset is considered."
   ]
  },
  {
   "cell_type": "code",
   "execution_count": 4,
   "metadata": {},
   "outputs": [
    {
     "name": "stdout",
     "output_type": "stream",
     "text": [
      "Best parameters:  {'activation': 'relu', 'hidden_layer_sizes': (6, 4, 2), 'learning_rate': 'adaptive', 'learning_rate_init': 0.05, 'max_iter': 300, 'random_state': 5, 'solver': 'adam'}\n"
     ]
    }
   ],
   "source": [
    "grid={\"hidden_layer_sizes\":[(6,2,2),(6,4,2),(6,2),(6,4),(6,1)],\n",
    "    \"activation\":[\"relu\",\"logistic\"],\n",
    "    \"solver\":[\"sgd\",\"adam\"],\n",
    "    \"learning_rate\":[\"adaptive\"],\n",
    "    \"learning_rate_init\":[0.01,.05,0.1,0.5,1],\n",
    "    \"max_iter\":[300],\n",
    "    \"random_state\":[5]\n",
    "}\n",
    "model_gs=GridSearchCV(estimator=MLPClassifier(),param_grid=grid,refit=True,verbose=0,return_train_score=True)\n",
    "model_gs.fit(X_train,y_train)\n",
    "\n",
    "print(\"Best parameters: \",model_gs.best_params_)"
   ]
  },
  {
   "cell_type": "markdown",
   "metadata": {},
   "source": [
    "Once the best model is determined, it can be used for checking the accuracy metric with the validation subset. As it is observed, the generated model actually performs a bit better in validation rather than in training."
   ]
  },
  {
   "cell_type": "code",
   "execution_count": 5,
   "metadata": {},
   "outputs": [
    {
     "name": "stdout",
     "output_type": "stream",
     "text": [
      "Training score:  0.6482412060301508\n",
      "Validation score:  0.8059701492537313\n"
     ]
    }
   ],
   "source": [
    "best_model=MLPClassifier(hidden_layer_sizes=(6,4,2),activation='relu',solver='adam',learning_rate='adaptive',learning_rate_init=0.05,max_iter=300,random_state=5,verbose=False)\n",
    "\n",
    "best_model.fit(X_train,y_train)\n",
    "print(\"Training score: \",model_gs.score(X_train,y_train))\n",
    "print(\"Validation score: \",model_gs.score(X_val,y_val))"
   ]
  },
  {
   "cell_type": "markdown",
   "metadata": {},
   "source": [
    "Even though the scores for both training and validation aren't optimal, they actually work fine for a simple model. It can be determined that there is no overfitting in the model, since the score for training is not high enough or perfect; at the same time, there isn't a low accuracy score for the validation set, which means that the model can actually generalize pretty well and on a similar level to the one the training has. \n",
    "\n",
    "On the other hand, determining underfitting can be trickier, since the score values for both training and testing aren't really high, but they are quite far away from the optimal ones. Since the accuracy values are in the range of .6 and.7, the model can be considered a bit underfitted, because there is a relatively high error while modelling and also the neural network does not perform as well as it should when generalizing for new information."
   ]
  },
  {
   "cell_type": "markdown",
   "metadata": {},
   "source": [
    "In order to evaluate how the model generalizes for new information and to understand deeply if there is underfitting or overfitting, a learning curves analysis is performed. The main objective of this graph is to detect if there is a significant change in the error that the model presents, if it is trained with a different amount of samples. Learning curves allow to understand how the accuracy or some other metric evolves within bot the training and validation set.\n",
    "\n",
    "While studying the penguin species database, it was decided to implement a learning curve that evaluated the whole database, since the SciKit Learn library employs cross-validation for separating the database and for studying its behavior with different sample sizes.\n",
    "\n",
    "The resulting grah shows that, at the beginning, the accuracy of the model is quite perfect if the sample size is small; once it reaches a considerable size, overfitting stops and a more realistic model is generated. At the same time, the exact opposite happens with the validation set; at first, with a small sample size the accuracy score is quite low, and while the sample gets bigger, the score tends to go higher. When the training sample size is close to 220 instances, both lines tend to converge close one to the other. This behavior shows that there is no overfitting within the model, but it has certain tendency to underfit the data, as the accuracy score is still low."
   ]
  },
  {
   "cell_type": "code",
   "execution_count": 6,
   "metadata": {},
   "outputs": [
    {
     "data": {
      "image/png": "[encoded data removed]",
      "text/plain": [
       "<Figure size 432x288 with 1 Axes>"
      ]
     },
     "metadata": {
      "needs_background": "light"
     },
     "output_type": "display_data"
    }
   ],
   "source": [
    "# Use learning curve to get training and validation scores along with train sizes\n",
    "\n",
    "train_sizes, train_scores, val_scores = learning_curve(estimator=best_model,X=X,y=y,cv=10,train_sizes=np.linspace(0.1, 1.0, 10))\n",
    "\n",
    "# Calculate training and validation mean and std\n",
    "\n",
    "train_mean = np.mean(train_scores, axis=1)\n",
    "train_std = np.std(train_scores, axis=1)\n",
    "val_mean = np.mean(val_scores, axis=1)\n",
    "val_std = np.std(val_scores, axis=1)\n",
    "\n",
    "# Plot the learning curve\n",
    "\n",
    "plt.plot(train_sizes, train_mean, color='blue', marker='o', markersize=5, label='Training Accuracy')\n",
    "plt.fill_between(train_sizes, train_mean + train_std, train_mean - train_std, alpha=0.15, color='blue')\n",
    "plt.plot(train_sizes, val_mean, color='green', marker='+', markersize=5, linestyle='--', label='Validation Accuracy')\n",
    "plt.fill_between(train_sizes, val_mean + val_std, val_mean - val_std, alpha=0.15, color='green')\n",
    "plt.title('Learning Curve')\n",
    "plt.xlabel('Training Data Size')\n",
    "plt.ylabel('Model accuracy')\n",
    "plt.grid()\n",
    "plt.legend(loc='lower right')\n",
    "plt.show()"
   ]
  },
  {
   "cell_type": "markdown",
   "metadata": {},
   "source": [
    "Once the training has finished and we determined the training size was adequate, a confusion matrix can be computed in order to evaluate how well the model performs when making predictions. For doing so, first some predictions had to be done while evaluating the data from the validation set with the neural network. Since the possible output consists of three different labels, the confusion matrix is formed by three rows and three columns.\n",
    "\n",
    "In the resulting matrix, the predictions actually show that the model performs quite well when determining the Adelie and Gentoo species; however, it must be noted that when working with the validation set, the neural network never gave an output of the Chinstrap species, which could be explained by the possible underfitting of the model."
   ]
  },
  {
   "cell_type": "code",
   "execution_count": 7,
   "metadata": {},
   "outputs": [
    {
     "data": {
      "image/png": "[encoded data removed]",
      "text/plain": [
       "<Figure size 360x288 with 2 Axes>"
      ]
     },
     "metadata": {
      "needs_background": "light"
     },
     "output_type": "display_data"
    }
   ],
   "source": [
    "y_pred_val=best_model.predict(X_val)\n",
    "\n",
    "cm_val=confusion_matrix(y_val,y_pred_val)\n",
    "cm_val_df = pd.DataFrame(cm_val,index=['Adelie','Chinstrap','Gentoo'],columns=['Adelie','Chinstrap','Gentoo'])\n",
    "\n",
    "#Plotting the confusion matrix\n",
    "plt.figure(figsize=(5,4))\n",
    "sns.heatmap(cm_val_df, annot=True)\n",
    "plt.title('Confusion Matrix')\n",
    "plt.ylabel('Actal Values')\n",
    "plt.xlabel('Predicted Values')\n",
    "plt.show()"
   ]
  },
  {
   "cell_type": "markdown",
   "metadata": {},
   "source": [
    "For further study regarding the results of the confusion matrix, 4 different metrics can be computed, These metrics consider the true positives, false positives, true negatives ad false negatives for each of the possible outcomes.\n",
    "\n",
    "Regarding each one of the metrics:\n",
    "\n",
    "- Accuracy: metric that tries to show how well the model works when determining if an instance belongs to a class or not.\n",
    "- Precision: aims to determine how the model performs when detecting a positive class.\n",
    "- Recall: ratio of positive instances that were detected correctly.\n",
    "- F1 score: combines precision and recall into one metric."
   ]
  },
  {
   "cell_type": "code",
   "execution_count": 8,
   "metadata": {},
   "outputs": [],
   "source": [
    "tp_a_val=cm_val[0][0]\n",
    "tp_c_val=cm_val[1][1]\n",
    "tp_g_val=cm_val[2][2]\n",
    "fn_a_val=cm_val[0][1]+cm_val[0][2]\n",
    "fn_c_val=cm_val[1][0]+cm_val[1][2]\n",
    "fn_g_val=cm_val[2][0]+cm_val[2][1]\n",
    "fp_a_val=cm_val[1][0]+cm_val[2][0]\n",
    "fp_c_val=cm_val[0][1]+cm_val[2][1]\n",
    "fp_g_val=cm_val[0][2]+cm_val[1][2]\n",
    "tn_a_val=cm_val[1][1]+cm_val[1][2]+cm_val[2][1]+cm_val[2][2]\n",
    "tn_c_val=cm_val[0][0]+cm_val[0][2]+cm_val[2][0]+cm_val[2][2]\n",
    "tn_g_val=cm_val[0][0]+cm_val[0][1]+cm_val[1][0]+cm_val[1][1]"
   ]
  },
  {
   "cell_type": "code",
   "execution_count": 9,
   "metadata": {},
   "outputs": [
    {
     "name": "stdout",
     "output_type": "stream",
     "text": [
      "Accuracy for Adelie: 0.8059701492537313\n",
      "Precision for Adelie: 0.8043478260869565\n",
      "Recall for Adelie: 0.9024390243902439\n",
      "F1-score for Adelie: 0.8505747126436782\n",
      "Accuracy for Chinstrap: 0.9402985074626866\n",
      "Precision for Chinstrap: nan\n",
      "Recall for Chinstrap: 0.0\n",
      "F1-score for Chinstrap: nan\n",
      "Accuracy for Gentoo: 0.8656716417910447\n",
      "Precision for Gentoo: 0.8095238095238095\n",
      "Recall for Gentoo: 0.7727272727272727\n",
      "F1-score for Gentoo: 0.7906976744186046\n"
     ]
    }
   ],
   "source": [
    "acc_a_val=(tp_a_val+tn_a_val)/(tp_a_val+tn_a_val+fp_a_val+fn_a_val)\n",
    "print(\"Accuracy for Adelie:\",acc_a_val)\n",
    "pre_a_val=tp_a_val/(tp_a_val+fp_a_val)\n",
    "print(\"Precision for Adelie:\",pre_a_val)\n",
    "rec_a_val=tp_a_val/(tp_a_val+fn_a_val)\n",
    "print(\"Recall for Adelie:\",rec_a_val)\n",
    "f1_a_val=2*pre_a_val*rec_a_val/(pre_a_val+rec_a_val)\n",
    "print(\"F1-score for Adelie:\",f1_a_val)\n",
    "acc_c_val=(tp_c_val+tn_c_val)/(tp_c_val+tn_c_val+fp_c_val+fn_c_val)\n",
    "print(\"Accuracy for Chinstrap:\",acc_c_val)\n",
    "pre_c_val=tp_c_val/(tp_c_val+fp_c_val)\n",
    "print(\"Precision for Chinstrap:\",pre_c_val)\n",
    "rec_c_val=tp_c_val/(tp_c_val+fn_c_val)\n",
    "print(\"Recall for Chinstrap:\",rec_c_val)\n",
    "f1_c_val=2*pre_c_val*rec_c_val/(pre_c_val+rec_c_val)\n",
    "print(\"F1-score for Chinstrap:\",f1_c_val)\n",
    "acc_g_val=(tp_g_val+tn_g_val)/(tp_g_val+tn_g_val+fp_g_val+fn_g_val)\n",
    "print(\"Accuracy for Gentoo:\",acc_g_val)\n",
    "pre_g_val=tp_g_val/(tp_g_val+fp_g_val)\n",
    "print(\"Precision for Gentoo:\",pre_g_val)\n",
    "rec_g_val=tp_g_val/(tp_g_val+fn_g_val)\n",
    "print(\"Recall for Gentoo:\",rec_g_val)\n",
    "f1_g_val=2*pre_g_val*rec_g_val/(pre_g_val+rec_g_val)\n",
    "print(\"F1-score for Gentoo:\",f1_g_val)"
   ]
  },
  {
   "cell_type": "markdown",
   "metadata": {},
   "source": [
    "Within the validation set, most of the metrics for both Adelie and Gentoo are within an acceptable range; however, Chinstrap predictions are quite weak, since there were no predictions for this class. This means that 3 out of 4 metrics are zero. The reason behind why the model behaves this way could be explained in the fact that there is some underfitting in it, as probably most of the information of the Chinstrap class is quite similar to the one of Adelie, causing that most of the predictions that actually belong to the former one go to the later one.\n",
    "\n",
    "For further testing and analysis, the same methodology for obtaining metrics is performed with the testing subset."
   ]
  },
  {
   "cell_type": "code",
   "execution_count": 10,
   "metadata": {},
   "outputs": [
    {
     "data": {
      "image/png": "[encoded data removed]",
      "text/plain": [
       "<Figure size 360x288 with 2 Axes>"
      ]
     },
     "metadata": {
      "needs_background": "light"
     },
     "output_type": "display_data"
    }
   ],
   "source": [
    "y_pred=best_model.predict(X_test)\n",
    "\n",
    "cm=confusion_matrix(y_test,y_pred)\n",
    "cm_df = pd.DataFrame(cm,index=['Adelie','Chinstrap','Gentoo'],columns=['Adelie','Chinstrap','Gentoo'])\n",
    "\n",
    "#Plotting the confusion matrix\n",
    "plt.figure(figsize=(5,4))\n",
    "sns.heatmap(cm_df, annot=True)\n",
    "plt.title('Confusion Matrix')\n",
    "plt.ylabel('Actal Values')\n",
    "plt.xlabel('Predicted Values')\n",
    "plt.show()"
   ]
  },
  {
   "cell_type": "code",
   "execution_count": 11,
   "metadata": {},
   "outputs": [],
   "source": [
    "tp_a=cm[0][0]\n",
    "tp_c=cm[1][1]\n",
    "tp_g=cm[2][2]\n",
    "fn_a=cm[0][1]+cm[0][2]\n",
    "fn_c=cm[1][0]+cm[1][2]\n",
    "fn_g=cm[2][0]+cm[2][1]\n",
    "fp_a=cm[1][0]+cm[2][0]\n",
    "fp_c=cm[0][1]+cm[2][1]\n",
    "fp_g=cm[0][2]+cm[1][2]\n",
    "tn_a=cm[1][1]+cm[1][2]+cm[2][1]+cm[2][2]\n",
    "tn_c=cm[0][0]+cm[0][2]+cm[2][0]+cm[2][2]\n",
    "tn_g=cm[0][0]+cm[0][1]+cm[1][0]+cm[1][1]"
   ]
  },
  {
   "cell_type": "code",
   "execution_count": 12,
   "metadata": {},
   "outputs": [
    {
     "name": "stdout",
     "output_type": "stream",
     "text": [
      "Accuracy for Adelie: 0.7910447761194029\n",
      "Precision for Adelie: 0.6842105263157895\n",
      "Recall for Adelie: 0.9285714285714286\n",
      "F1-score for Adelie: 0.7878787878787878\n",
      "Accuracy for Chinstrap: 0.8507462686567164\n",
      "Precision for Chinstrap: nan\n",
      "Recall for Chinstrap: 0.0\n",
      "F1-score for Chinstrap: nan\n",
      "Accuracy for Gentoo: 0.9402985074626866\n",
      "Precision for Gentoo: 0.9310344827586207\n",
      "Recall for Gentoo: 0.9310344827586207\n",
      "F1-score for Gentoo: 0.9310344827586207\n"
     ]
    }
   ],
   "source": [
    "acc_a=(tp_a+tn_a)/(tp_a+tn_a+fp_a+fn_a)\n",
    "print(\"Accuracy for Adelie:\",acc_a)\n",
    "pre_a=tp_a/(tp_a+fp_a)\n",
    "print(\"Precision for Adelie:\",pre_a)\n",
    "rec_a=tp_a/(tp_a+fn_a)\n",
    "print(\"Recall for Adelie:\",rec_a)\n",
    "f1_a=2*pre_a*rec_a/(pre_a+rec_a)\n",
    "print(\"F1-score for Adelie:\",f1_a)\n",
    "acc_c=(tp_c+tn_c)/(tp_c+tn_c+fp_c+fn_c)\n",
    "print(\"Accuracy for Chinstrap:\",acc_c)\n",
    "pre_c=tp_c/(tp_c+fp_c)\n",
    "print(\"Precision for Chinstrap:\",pre_c)\n",
    "rec_c=tp_c/(tp_c+fn_c)\n",
    "print(\"Recall for Chinstrap:\",rec_c)\n",
    "f1_c=2*pre_c*rec_c/(pre_c+rec_c)\n",
    "print(\"F1-score for Chinstrap:\",f1_c)\n",
    "acc_g=(tp_g+tn_g)/(tp_g+tn_g+fp_g+fn_g)\n",
    "print(\"Accuracy for Gentoo:\",acc_g)\n",
    "pre_g=tp_g/(tp_g+fp_g)\n",
    "print(\"Precision for Gentoo:\",pre_g)\n",
    "rec_g=tp_g/(tp_g+fn_g)\n",
    "print(\"Recall for Gentoo:\",rec_g)\n",
    "f1_g=2*pre_g*rec_g/(pre_g+rec_g)\n",
    "print(\"F1-score for Gentoo:\",f1_g)"
   ]
  },
  {
   "cell_type": "markdown",
   "metadata": {},
   "source": [
    "After trying out the model with the testing set, it can be confirmed that the model tends to behave in a similar way with all of the data it is presented. Metrics and the confusion matrix also confirm that predictions for both Adelie and Gentoo work fine, since there tends to be a certain generalization in the obtained results and performance. Simultaneously, when working with the Chinstrap label, the fact that there were no predictions towards it continues, which means that the model lacks enough information in order to decide that a penguin with certain characteristics belongs to this specific class."
   ]
  },
  {
   "cell_type": "markdown",
   "metadata": {},
   "source": [
    "Once the whole stody was performed and the metrics were obtained, it can be determined that even after optimizing the parameters and training/testing sizes for the neural network, there exists a certain level of underfitting, since the model fails to explain correctly when an instance belongs to the Chinstrap species. A possible solution for this would be extending the database with information from this particular class; providing more details should work for making more accurate predictions without falling into an overfitting of the model. Another option could be to generate a more complex model, which allows to adjust the predictions for that particular class; nevertheless, the gridsearch that was performed at the beginning of the analysis actually considered some neural network models which were a bit more complex, adding hidden layers and nodes to the model. This could possibly mean that a neural network is not the best option for performing a classification task with this particular database, ando some additional model could work better."
   ]
  }
 ],
 "metadata": {
  "kernelspec": {
   "display_name": "Python 3",
   "language": "python",
   "name": "python3"
  },
  "language_info": {
   "codemirror_mode": {
    "name": "ipython",
    "version": 3
   },
   "file_extension": ".py",
   "mimetype": "text/x-python",
   "name": "python",
   "nbconvert_exporter": "python",
   "pygments_lexer": "ipython3",
   "version": "3.8.5"
  },
  "vscode": {
   "interpreter": {
    "hash": "6708fe8d517425b1237656da5c662f6036934e51d3da3fde11f86d4b89844509"
   }
  }
 },
 "nbformat": 4,
 "nbformat_minor": 2
}
